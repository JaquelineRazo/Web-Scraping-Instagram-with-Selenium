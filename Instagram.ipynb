{
 "cells": [
  {
   "cell_type": "markdown",
   "id": "e52839bc",
   "metadata": {},
   "source": [
    "# Web Scraping Instagram with Selenium"
   ]
  },
  {
   "cell_type": "code",
   "execution_count": 1,
   "id": "4c19b527",
   "metadata": {},
   "outputs": [],
   "source": [
    "#imports here\n",
    "from selenium import webdriver\n",
    "from selenium.webdriver.common.keys import Keys\n",
    "from selenium.webdriver.support import expected_conditions as EC\n",
    "from selenium.webdriver.common.by import By\n",
    "from selenium.webdriver.support.wait import WebDriverWait\n",
    "import time"
   ]
  },
  {
   "cell_type": "markdown",
   "id": "1e8fcaa2",
   "metadata": {},
   "source": [
    "# Download ChromeDriver"
   ]
  },
  {
   "cell_type": "markdown",
   "id": "c96af087",
   "metadata": {},
   "source": [
    "Now we need to download latest stable release of ChromeDriver from:\n",
    "https://chromedriver.chromium.org/"
   ]
  },
  {
   "cell_type": "code",
   "execution_count": 2,
   "id": "5ede4a0d",
   "metadata": {},
   "outputs": [],
   "source": [
    "#specify the path to chromedriver.exe (download and save on your computer)\n",
    "driver = webdriver.Chrome('/Users/user/Desktop/Web_Scraping_Instagram_with_Selenium/chromedriver')\n",
    "\n",
    "#open the webpage\n",
    "driver.get(\"http://www.instagram.com\")"
   ]
  },
  {
   "cell_type": "markdown",
   "id": "c26ecb23",
   "metadata": {},
   "source": [
    "# Log into your Instagram account"
   ]
  },
  {
   "cell_type": "markdown",
   "id": "a3d70b43",
   "metadata": {},
   "source": [
    "Open Developer Tools in your browser and look for the name attribute"
   ]
  },
  {
   "cell_type": "code",
   "execution_count": 3,
   "id": "b86b0b4c",
   "metadata": {},
   "outputs": [],
   "source": [
    "#target username\n",
    "username = WebDriverWait(driver, 10).until(EC.element_to_be_clickable((By.CSS_SELECTOR, \"input[name='username']\")))\n",
    "password = WebDriverWait(driver, 10).until(EC.element_to_be_clickable((By.CSS_SELECTOR, \"input[name='password']\")))\n",
    "\n",
    "#enter username and password\n",
    "username.clear()\n",
    "username.send_keys(\"your_id\")\n",
    "password.clear()\n",
    "password.send_keys(\"your_password\")\n",
    "\n",
    "#target the login button and click it\n",
    "log_in = WebDriverWait(driver, 2).until(EC.element_to_be_clickable((By.CSS_SELECTOR, \"button[type='submit']\"))).click()\n",
    "\n",
    "#We are logged in!"
   ]
  },
  {
   "cell_type": "markdown",
   "id": "7eb248a7",
   "metadata": {},
   "source": [
    "# Handle Alerts"
   ]
  },
  {
   "cell_type": "markdown",
   "id": "b765b625",
   "metadata": {},
   "source": [
    "You might only get a single alert, or you might get 2 of them\n",
    "please adjust the cell below accordingly. <br>\n",
    "As my browser is in Spanish, my target button will say \"Ahora no\" but if yours is in English look for \"Not now\""
   ]
  },
  {
   "cell_type": "code",
   "execution_count": 4,
   "id": "f38e8026",
   "metadata": {},
   "outputs": [],
   "source": [
    "time.sleep(5)\n",
    "alert = WebDriverWait(driver, 15).until(EC.element_to_be_clickable((By.XPATH, '//button[contains(text(), \"Ahora no\")]'))).click()\n",
    "alert2 = WebDriverWait(driver, 15).until(EC.element_to_be_clickable((By.XPATH, '//button[contains(text(), \"Ahora no\")]'))).click()"
   ]
  },
  {
   "cell_type": "markdown",
   "id": "50381e87",
   "metadata": {},
   "source": [
    "# Search for a certain hashtag"
   ]
  },
  {
   "cell_type": "code",
   "execution_count": 5,
   "id": "b989488e",
   "metadata": {},
   "outputs": [],
   "source": [
    "#target the search input field\n",
    "searchbox = WebDriverWait(driver, 10).until(EC.element_to_be_clickable((By.XPATH, \"//input[@placeholder='Buscar']\")))\n",
    "searchbox.clear()\n",
    "\n",
    "#search for the hashtag cat\n",
    "keyword = \"#cat\"\n",
    "searchbox.send_keys(keyword)\n",
    " \n",
    "#DOUBLE ENTER\n",
    "time.sleep(5) # Wait for 5 seconds\n",
    "my_link = WebDriverWait(driver, 10).until(EC.element_to_be_clickable((By.XPATH, \"//a[contains(@href, '/\" + keyword[1:] + \"/')]\")))\n",
    "my_link.click()"
   ]
  },
  {
   "cell_type": "markdown",
   "id": "bd328d65",
   "metadata": {},
   "source": [
    "# Scroll Down"
   ]
  },
  {
   "cell_type": "markdown",
   "id": "5173cc90",
   "metadata": {},
   "source": [
    "Increase n_scrolls to select more photos (depending on screen resolution)<br>\n",
    "<strong>Example:</strong>\n",
    "\n",
    "- 2 scrolls cover approx. 35 photos\n",
    "- 3 scrolls cover approx. 45 photos"
   ]
  },
  {
   "cell_type": "code",
   "execution_count": 6,
   "id": "b616ffd7",
   "metadata": {},
   "outputs": [],
   "source": [
    "#scroll down 2 times\n",
    "#increase the range to sroll more\n",
    "n_scrolls = 2\n",
    "for j in range(0, n_scrolls):\n",
    "    driver.execute_script(\"window.scrollTo(0, document.body.scrollHeight);\")\n",
    "    time.sleep(5)"
   ]
  },
  {
   "cell_type": "code",
   "execution_count": 7,
   "id": "201a7ad3",
   "metadata": {},
   "outputs": [
    {
     "name": "stdout",
     "output_type": "stream",
     "text": [
      "Found 51 links to images\n"
     ]
    },
    {
     "data": {
      "text/plain": [
       "['https://www.instagram.com/p/CUNRb6YA43r/',\n",
       " 'https://www.instagram.com/p/CUNTDyOD8Ma/',\n",
       " 'https://www.instagram.com/p/CUNG87vJjBt/',\n",
       " 'https://www.instagram.com/p/CUNcOdApyfi/',\n",
       " 'https://www.instagram.com/p/CUNWVEXAK0A/']"
      ]
     },
     "execution_count": 7,
     "metadata": {},
     "output_type": "execute_result"
    }
   ],
   "source": [
    "#target all the link elements on the page\n",
    "anchors = driver.find_elements_by_tag_name('a')\n",
    "anchors = [a.get_attribute('href') for a in anchors]\n",
    "#narrow down all links to image links only\n",
    "anchors = [a for a in anchors if str(a).startswith(\"https://www.instagram.com/p/\")]\n",
    "\n",
    "print('Found ' + str(len(anchors)) + ' links to images')\n",
    "anchors[:5]"
   ]
  },
  {
   "cell_type": "code",
   "execution_count": 8,
   "id": "81d97554",
   "metadata": {},
   "outputs": [
    {
     "data": {
      "text/plain": [
       "['https://instagram.fmex23-1.fna.fbcdn.net/v/t51.2885-15/e35/242692731_1368790030184455_2833736039745165744_n.jpg?_nc_ht=instagram.fmex23-1.fna.fbcdn.net&_nc_cat=1&_nc_ohc=yc8n6i_-c6YAX-Af0nE&tn=DqvdhehCtTpRNFKd&edm=ABZsPhsBAAAA&ccb=7-4&oh=579cb31711f83dd69fdcc7c833d28cd3&oe=6155ABA0&_nc_sid=4efc9f&ig_cache_key=MjY2OTg2NjgzODk5NzA0NDcxNQ%3D%3D.2-ccb7-4',\n",
       " 'https://instagram.fmex23-1.fna.fbcdn.net/v/t51.2885-15/e35/242692731_1368790030184455_2833736039745165744_n.jpg?_nc_ht=instagram.fmex23-1.fna.fbcdn.net&_nc_cat=1&_nc_ohc=yc8n6i_-c6YAX-Af0nE&tn=DqvdhehCtTpRNFKd&edm=ABZsPhsBAAAA&ccb=7-4&oh=579cb31711f83dd69fdcc7c833d28cd3&oe=6155ABA0&_nc_sid=4efc9f&ig_cache_key=MjY2OTg2NjgzODk5NzA0NDcxNQ%3D%3D.2-ccb7-4',\n",
       " 'https://instagram.fmex23-1.fna.fbcdn.net/v/t51.2885-15/e35/242692731_1368790030184455_2833736039745165744_n.jpg?_nc_ht=instagram.fmex23-1.fna.fbcdn.net&_nc_cat=1&_nc_ohc=yc8n6i_-c6YAX-Af0nE&tn=DqvdhehCtTpRNFKd&edm=ABZsPhsBAAAA&ccb=7-4&oh=579cb31711f83dd69fdcc7c833d28cd3&oe=6155ABA0&_nc_sid=4efc9f&ig_cache_key=MjY2OTg2NjgzODk5NzA0NDcxNQ%3D%3D.2-ccb7-4',\n",
       " 'https://instagram.fmex23-1.fna.fbcdn.net/v/t51.2885-15/e35/242692731_1368790030184455_2833736039745165744_n.jpg?_nc_ht=instagram.fmex23-1.fna.fbcdn.net&_nc_cat=1&_nc_ohc=yc8n6i_-c6YAX-Af0nE&tn=DqvdhehCtTpRNFKd&edm=ABZsPhsBAAAA&ccb=7-4&oh=579cb31711f83dd69fdcc7c833d28cd3&oe=6155ABA0&_nc_sid=4efc9f&ig_cache_key=MjY2OTg2NjgzODk5NzA0NDcxNQ%3D%3D.2-ccb7-4',\n",
       " 'https://instagram.fmex23-1.fna.fbcdn.net/v/t51.2885-15/e35/242692731_1368790030184455_2833736039745165744_n.jpg?_nc_ht=instagram.fmex23-1.fna.fbcdn.net&_nc_cat=1&_nc_ohc=yc8n6i_-c6YAX-Af0nE&tn=DqvdhehCtTpRNFKd&edm=ABZsPhsBAAAA&ccb=7-4&oh=579cb31711f83dd69fdcc7c833d28cd3&oe=6155ABA0&_nc_sid=4efc9f&ig_cache_key=MjY2OTg2NjgzODk5NzA0NDcxNQ%3D%3D.2-ccb7-4']"
      ]
     },
     "execution_count": 8,
     "metadata": {},
     "output_type": "execute_result"
    }
   ],
   "source": [
    "images = []\n",
    "\n",
    "#follow each image link and extract only image at index=1\n",
    "for a in anchors:\n",
    "    img = driver.find_elements_by_tag_name('img')\n",
    "    img = [i.get_attribute('src') for i in img]\n",
    "    images.append(img[1])\n",
    "    \n",
    "images[:5]"
   ]
  },
  {
   "cell_type": "markdown",
   "id": "b9919c4b",
   "metadata": {},
   "source": [
    "# Save images to computer"
   ]
  },
  {
   "cell_type": "markdown",
   "id": "7c99de8f",
   "metadata": {},
   "source": [
    "First we'll create a new folder for our images somewhere on our computer. <br>\n",
    "Then, we'll save all the images there."
   ]
  },
  {
   "cell_type": "code",
   "execution_count": 9,
   "id": "8e7454f4",
   "metadata": {},
   "outputs": [
    {
     "data": {
      "text/plain": [
       "'/Users/user/Desktop/Web_Scraping_Instagram_with_Selenium/cats'"
      ]
     },
     "execution_count": 9,
     "metadata": {},
     "output_type": "execute_result"
    }
   ],
   "source": [
    "import os\n",
    "\n",
    "path = os.getcwd()\n",
    "path = os.path.join(path, keyword[1:] + \"s\")\n",
    "\n",
    "#create the directory\n",
    "os.mkdir(path)\n",
    "\n",
    "path"
   ]
  },
  {
   "cell_type": "code",
   "execution_count": 11,
   "id": "ca5e93c4",
   "metadata": {},
   "outputs": [],
   "source": [
    "#download images\n",
    "import wget\n",
    "\n",
    "counter = 0\n",
    "for image in images:\n",
    "    save_as = os.path.join(path, keyword[1:] + str(counter) + '.jpg')\n",
    "    wget.download(image, save_as)\n",
    "    counter += 1"
   ]
  },
  {
   "cell_type": "code",
   "execution_count": null,
   "id": "f2fd82aa",
   "metadata": {},
   "outputs": [],
   "source": []
  }
 ],
 "metadata": {
  "kernelspec": {
   "display_name": "Python 3",
   "language": "python",
   "name": "python3"
  },
  "language_info": {
   "codemirror_mode": {
    "name": "ipython",
    "version": 3
   },
   "file_extension": ".py",
   "mimetype": "text/x-python",
   "name": "python",
   "nbconvert_exporter": "python",
   "pygments_lexer": "ipython3",
   "version": "3.8.8"
  }
 },
 "nbformat": 4,
 "nbformat_minor": 5
}
